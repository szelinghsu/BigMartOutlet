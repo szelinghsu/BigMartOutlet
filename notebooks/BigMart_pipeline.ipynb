{
 "cells": [
  {
   "cell_type": "markdown",
   "metadata": {},
   "source": [
    "# Big Mart Outlet Sales Prediction\n",
    "\n",
    "## Build Machine Learning pipeline"
   ]
  },
  {
   "cell_type": "code",
   "execution_count": 1,
   "metadata": {},
   "outputs": [],
   "source": [
    "# Import required libraries\n",
    "import pandas as pd\n",
    "from sklearn.compose import ColumnTransformer \n",
    "from sklearn.impute import SimpleImputer\n",
    "import category_encoders as ce\n",
    "from sklearn.preprocessing import StandardScaler\n",
    "from sklearn.ensemble import RandomForestRegressor\n",
    "from sklearn.pipeline import Pipeline"
   ]
  },
  {
   "cell_type": "code",
   "execution_count": 2,
   "metadata": {},
   "outputs": [],
   "source": [
    "# read the data set\n",
    "data = pd.read_csv('train_v9rqX0R.csv')\n",
    "\n",
    "# top rows of the data\n",
    "data.head()\n",
    "\n",
    "# seperate the independent and target variables\n",
    "train_x = data.drop(columns=['Item_Outlet_Sales'])\n",
    "train_y = data['Item_Outlet_Sales']"
   ]
  },
  {
   "cell_type": "code",
   "execution_count": 3,
   "metadata": {},
   "outputs": [],
   "source": [
    "# Build custom encoder for the three selected categorical variables\n",
    "\n",
    "from sklearn.base import BaseEstimator\n",
    "\n",
    "class custom_encoder(BaseEstimator):\n",
    "    ''' Perform column transformation on 3 selected categorical variables '''\n",
    "    def __init__(self):\n",
    "        pass\n",
    "    \n",
    "    def fit(self, documents, y=None):\n",
    "        return self\n",
    "    \n",
    "    def transform(self, data_x):\n",
    "        data_x['outlet_grocery_store'] = (data_x['Outlet_Type']=='Grocery Store')*1\n",
    "        data_x['outlet_supermarket_3'] = (data_x['Outlet_Type']=='Supermarket Type3')*1\n",
    "        data_x['outlet_identifier_OUT027'] = (data_x['Outlet_Identifier']=='OUT027')*1\n",
    "        return data_x"
   ]
  },
  {
   "cell_type": "code",
   "execution_count": 4,
   "metadata": {},
   "outputs": [],
   "source": [
    "# Data pre-processsing step\n",
    "# 1) Drop unnecessary columns  \n",
    "# 2) Impute the missing values in column Item_Weight by mean\n",
    "# 3) Scale the data in the column Item_MRP\n",
    "\n",
    "preprocess = ColumnTransformer(remainder='passthrough',\n",
    "                               transformers=[('drop_columns', 'drop', ['Item_Identifier',\n",
    "                                                                       'Outlet_Identifier',\n",
    "                                                                       'Item_Fat_Content',\n",
    "                                                                       'Item_Type',\n",
    "                                                                       'Outlet_Identifier',\n",
    "                                                                       'Outlet_Size',\n",
    "                                                                       'Outlet_Location_Type',\n",
    "                                                                       'Outlet_Type'\n",
    "                                                                      ]),\n",
    "                                             ('impute_item_weight', SimpleImputer(strategy='mean'), ['Item_Weight']),\n",
    "                                             ('scale_data', StandardScaler(),['Item_MRP'])])"
   ]
  },
  {
   "cell_type": "code",
   "execution_count": 5,
   "metadata": {},
   "outputs": [
    {
     "name": "stdout",
     "output_type": "stream",
     "text": [
      "***** Building Pipeline *****\n",
      "\n",
      "...Fitting the pipeline with the training data...\n",
      "\n",
      "...Predict target on the train data...\n",
      "\n",
      "Predicted sales:  [4348.01437159  693.40276088 2323.35268531 ... 1300.83665376 1508.86795688\n",
      " 1152.35475793]\n",
      "\n",
      "...Reading the test data...\n",
      "\n",
      "...Predict on the test data...\n",
      "\n",
      "Predicted sales:  [1646.0548363  1305.4298012   658.42325097 ... 1848.60226305 3959.67937864\n",
      " 1384.01466986]\n"
     ]
    }
   ],
   "source": [
    "# Define the Pipeline\n",
    "# 1) Encode selected categorical variables\n",
    "# 2) Preprocess the data\n",
    "# 3) Train a Random Forest Regressor model\n",
    "\n",
    "# Build pipeline\n",
    "print('***** Building Pipeline *****\\n')\n",
    "model_pipeline = Pipeline(steps=[('encode_cat_var', custom_encoder()), \n",
    "                                 ('preprocessing', preprocess),\n",
    "                                 ('random_forest', RandomForestRegressor(max_depth=10,random_state=2))])\n",
    "\n",
    "# Fit the pipeline with the train data\n",
    "print('...Fitting the pipeline with the training data...\\n')\n",
    "model_pipeline.fit(train_x, train_y)\n",
    "\n",
    "# predict target values on the training data\n",
    "print('...Predict target on the train data...\\n')\n",
    "print('Predicted sales: ', model_pipeline.predict(train_x))\n",
    "\n",
    "# read the test data\n",
    "print('\\n...Reading the test data...\\n')\n",
    "test_data = pd.read_csv('test_AbJTz2l.csv')\n",
    "\n",
    "# predict target variables on the test data \n",
    "print('...Predict on the test data...\\n')\n",
    "print('Predicted sales: ', model_pipeline.predict(test_data))"
   ]
  }
 ],
 "metadata": {
  "kernelspec": {
   "display_name": "Python 3",
   "language": "python",
   "name": "python3"
  },
  "language_info": {
   "codemirror_mode": {
    "name": "ipython",
    "version": 3
   },
   "file_extension": ".py",
   "mimetype": "text/x-python",
   "name": "python",
   "nbconvert_exporter": "python",
   "pygments_lexer": "ipython3",
   "version": "3.8.5"
  }
 },
 "nbformat": 4,
 "nbformat_minor": 4
}
